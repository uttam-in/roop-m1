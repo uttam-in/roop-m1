{
 "cells": [
  {
   "cell_type": "code",
   "execution_count": 12,
   "id": "initial_id",
   "metadata": {
    "collapsed": true,
    "ExecuteTime": {
     "end_time": "2024-06-12T20:59:54.212836Z",
     "start_time": "2024-06-12T20:59:50.639103Z"
    }
   },
   "outputs": [
    {
     "name": "stdout",
     "output_type": "stream",
     "text": [
      "Traceback (most recent call last):\r\n",
      "  File \"/Users/uttamkumarpanasala/Documents/roop-ml/run.py\", line 3, in <module>\r\n",
      "    from roop import core\r\n",
      "  File \"/Users/uttamkumarpanasala/Documents/roop-ml/roop/core.py\", line 20, in <module>\r\n",
      "    import roop.ui as ui\r\n",
      "  File \"/Users/uttamkumarpanasala/Documents/roop-ml/roop/ui.py\", line 15, in <module>\r\n",
      "    from roop.predictor import predict_frame, clear_predictor\r\n",
      "  File \"/Users/uttamkumarpanasala/Documents/roop-ml/roop/predictor.py\", line 3, in <module>\r\n",
      "    import opennsfw2\r\n",
      "  File \"/opt/miniconda3/envs/gpu1/lib/python3.10/site-packages/opennsfw2/__init__.py\", line 3, in <module>\r\n",
      "    from ._model import make_open_nsfw_model\r\n",
      "  File \"/opt/miniconda3/envs/gpu1/lib/python3.10/site-packages/opennsfw2/_model.py\", line 11, in <module>\r\n",
      "    from tensorflow.keras import layers  # type: ignore\r\n",
      "ModuleNotFoundError: No module named 'tensorflow.keras'\r\n",
      "python run.py -s \"poj.JPG\" -t \"rasmika.jpg\" -o \"final.jpg\"  2.39s user 1.05s system 99% cpu 3.455 total\r\n"
     ]
    }
   ],
   "source": [
    "!time python run.py -s \"poj.JPG\" -t \"rasmika.jpg\" -o \"final.jpg\""
   ]
  },
  {
   "cell_type": "code",
   "execution_count": 10,
   "id": "1393f6b4fe9a8d77",
   "metadata": {
    "collapsed": false,
    "ExecuteTime": {
     "end_time": "2024-06-12T20:42:58.640383Z",
     "start_time": "2024-06-12T20:42:58.636360Z"
    }
   },
   "outputs": [
    {
     "name": "stdout",
     "output_type": "stream",
     "text": [
      "hello\n"
     ]
    }
   ],
   "source": [
    "print(\"hello\")"
   ]
  },
  {
   "cell_type": "code",
   "execution_count": null,
   "id": "db047a028461a81e",
   "metadata": {
    "collapsed": false
   },
   "outputs": [],
   "source": []
  }
 ],
 "metadata": {
  "kernelspec": {
   "display_name": "gpu1",
   "language": "python",
   "name": "python3"
  },
  "language_info": {
   "codemirror_mode": {
    "name": "ipython",
    "version": 2
   },
   "file_extension": ".py",
   "mimetype": "text/x-python",
   "name": "python",
   "nbconvert_exporter": "python",
   "pygments_lexer": "ipython2",
   "version": "3.10.14"
  }
 },
 "nbformat": 4,
 "nbformat_minor": 5
}
